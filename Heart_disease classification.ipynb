{
 "cells": [
  {
   "cell_type": "code",
   "execution_count": 1,
   "metadata": {},
   "outputs": [],
   "source": [
    "import pandas as pd \n",
    "import numpy as np\n",
    "from sklearn import impute\n",
    "import seaborn as sns\n",
    "import matplotlib.pyplot as plt"
   ]
  },
  {
   "cell_type": "code",
   "execution_count": 2,
   "metadata": {},
   "outputs": [],
   "source": [
    "input1 = pd.read_csv(\"clev.data\")#loading cleveland data\n",
    "input2 = pd.read_csv(\"hun.data\")#loading hungarian data\n",
    "input3 = pd.read_csv(\"sz.data\") # loading swiz data"
   ]
  },
  {
   "cell_type": "code",
   "execution_count": 3,
   "metadata": {},
   "outputs": [
    {
     "name": "stdout",
     "output_type": "stream",
     "text": [
      "the shape of input 1 is  (302, 14)\n",
      "the shape of input 2 is  (293, 14)\n",
      "the shape of input 3 is  (122, 14)\n"
     ]
    }
   ],
   "source": [
    "#printing the shape of the datasets loaded.\n",
    "print(\"the shape of input 1 is \",input1.shape)\n",
    "print(\"the shape of input 2 is \",input2.shape)\n",
    "print(\"the shape of input 3 is \",input3.shape)"
   ]
  },
  {
   "cell_type": "markdown",
   "metadata": {},
   "source": [
    "From the above shape we can understand that there are total of 14 features available in each of the datasets. Therefore, i will first combine  these dataset together and do the visualization of data for future use."
   ]
  },
  {
   "cell_type": "code",
   "execution_count": 4,
   "metadata": {},
   "outputs": [],
   "source": [
    "#adding the column names to each of the dataset\n",
    "input1.columns = ['age','sex','cp','trestbps','chol','fbs','restecg','thalach','exang','oldpeak','slope','ca',\n",
    "                  'thal','target']\n",
    "input2.columns = ['age','sex','cp','trestbps','chol','fbs','restecg','thalach','exang','oldpeak','slope','ca',\n",
    "                  'thal','target']\n",
    "input3.columns = ['age','sex','cp','trestbps','chol','fbs','restecg','thalach','exang','oldpeak','slope','ca',\n",
    "                  'thal','target']"
   ]
  },
  {
   "cell_type": "code",
   "execution_count": 5,
   "metadata": {},
   "outputs": [],
   "source": [
    "#after adding columns names, i will be concatenating the dataframes to make it one for easy visualization and preprocessing.\n",
    "concatenation = [input1,input2,input3]\n",
    "total_df = pd.concat(concatenation)"
   ]
  },
  {
   "cell_type": "code",
   "execution_count": 6,
   "metadata": {},
   "outputs": [
    {
     "name": "stdout",
     "output_type": "stream",
     "text": [
      "The shape of concatenated DF is  (717, 14)\n"
     ]
    }
   ],
   "source": [
    "#printing the shape of concatenated DF\n",
    "print(\"The shape of concatenated DF is \", total_df.shape)"
   ]
  },
  {
   "cell_type": "code",
   "execution_count": 7,
   "metadata": {},
   "outputs": [
    {
     "name": "stdout",
     "output_type": "stream",
     "text": [
      "    age  sex   cp trestbps chol fbs restecg thalach exang oldpeak slope   ca  \\\n",
      "0  67.0  1.0  4.0      160  286   0       2     108     1     1.5     2  3.0   \n",
      "1  67.0  1.0  4.0      120  229   0       2     129     1     2.6     2  2.0   \n",
      "2  37.0  1.0  3.0      130  250   0       0     187     0     3.5     3  0.0   \n",
      "3  41.0  0.0  2.0      130  204   0       2     172     0     1.4     1  0.0   \n",
      "4  56.0  1.0  2.0      120  236   0       0     178     0     0.8     1  0.0   \n",
      "\n",
      "  thal  target  \n",
      "0  3.0       2  \n",
      "1  7.0       1  \n",
      "2  3.0       0  \n",
      "3  3.0       0  \n",
      "4  3.0       0  \n",
      "      age  sex   cp trestbps chol fbs restecg thalach exang oldpeak slope ca  \\\n",
      "117  70.0  1.0  4.0      115    0   0       1      92     1       0     2  ?   \n",
      "118  70.0  1.0  4.0      140    0   1       0     157     1       2     2  ?   \n",
      "119  72.0  1.0  3.0      160    0   ?       2     114     0     1.6     2  2   \n",
      "120  73.0  0.0  3.0      160    0   0       1     121     0       0     1  ?   \n",
      "121  74.0  1.0  2.0      145    0   ?       1     123     0     1.3     1  ?   \n",
      "\n",
      "    thal  target  \n",
      "117    7       1  \n",
      "118    7       3  \n",
      "119    ?       0  \n",
      "120    3       1  \n",
      "121    ?       1  \n"
     ]
    }
   ],
   "source": [
    "#Printing the first 5 rows and last 5 rows for high level visualization.\n",
    "print(total_df.head(5))\n",
    "print(total_df.tail(5))"
   ]
  },
  {
   "cell_type": "code",
   "execution_count": 8,
   "metadata": {},
   "outputs": [
    {
     "name": "stdout",
     "output_type": "stream",
     "text": [
      "    age  sex   cp trestbps chol fbs restecg thalach exang oldpeak slope   ca  \\\n",
      "0  67.0  1.0  4.0      160  286   0       2     108     1     1.5     2  3.0   \n",
      "1  67.0  1.0  4.0      120  229   0       2     129     1     2.6     2  2.0   \n",
      "2  37.0  1.0  3.0      130  250   0       0     187     0     3.5     3  0.0   \n",
      "3  41.0  0.0  2.0      130  204   0       2     172     0     1.4     1  0.0   \n",
      "4  56.0  1.0  2.0      120  236   0       0     178     0     0.8     1  0.0   \n",
      "\n",
      "  thal  target  \n",
      "0  3.0       2  \n",
      "1  7.0       1  \n",
      "2  3.0       0  \n",
      "3  3.0       0  \n",
      "4  3.0       0  \n",
      "      age  sex   cp trestbps chol  fbs restecg thalach exang oldpeak slope  \\\n",
      "117  70.0  1.0  4.0      115    0    0       1      92     1       0     2   \n",
      "118  70.0  1.0  4.0      140    0    1       0     157     1       2     2   \n",
      "119  72.0  1.0  3.0      160    0  NaN       2     114     0     1.6     2   \n",
      "120  73.0  0.0  3.0      160    0    0       1     121     0       0     1   \n",
      "121  74.0  1.0  2.0      145    0  NaN       1     123     0     1.3     1   \n",
      "\n",
      "      ca thal  target  \n",
      "117  NaN    7       1  \n",
      "118  NaN    7       3  \n",
      "119    2  NaN       0  \n",
      "120  NaN    3       1  \n",
      "121  NaN  NaN       1  \n"
     ]
    }
   ],
   "source": [
    "#As we can see there are \"?\" present in the dataset, i will convert them into Nan values first \n",
    "total_df = total_df.replace('?',np.nan)\n",
    "print(total_df.head(5))\n",
    "print(total_df.tail(5))"
   ]
  },
  {
   "cell_type": "code",
   "execution_count": 9,
   "metadata": {},
   "outputs": [
    {
     "data": {
      "text/plain": [
       "age           0\n",
       "sex           0\n",
       "cp            0\n",
       "trestbps      3\n",
       "chol         23\n",
       "fbs          82\n",
       "restecg       2\n",
       "thalach       2\n",
       "exang         2\n",
       "oldpeak       6\n",
       "slope       206\n",
       "ca          411\n",
       "thal        318\n",
       "target        0\n",
       "dtype: int64"
      ]
     },
     "execution_count": 9,
     "metadata": {},
     "output_type": "execute_result"
    }
   ],
   "source": [
    "#let us check for the total NAN values present in Dataframe\n",
    "\n",
    "total_df.isnull().sum()"
   ]
  },
  {
   "cell_type": "markdown",
   "metadata": {},
   "source": [
    "As we can see features trestbps, chol, fbs, restecg, thalach, exang, oldpeak, slope, ca, thal have NANs present in their rows. Hence i will use Simple Imputer to impute the missing values. "
   ]
  },
  {
   "cell_type": "code",
   "execution_count": 10,
   "metadata": {},
   "outputs": [],
   "source": [
    "imputeclass = impute.SimpleImputer(missing_values=np.nan,strategy='mean')\n",
    "total_df[[\"trestbps\"]] = imputeclass.fit_transform(total_df[[\"trestbps\"]])\n",
    "total_df[[\"chol\"]] = imputeclass.fit_transform(total_df[[\"chol\"]])\n",
    "total_df[[\"fbs\"]] = imputeclass.fit_transform(total_df[[\"fbs\"]])\n",
    "total_df[[\"restecg\"]] = imputeclass.fit_transform(total_df[[\"restecg\"]])\n",
    "total_df[[\"thalach\"]] = imputeclass.fit_transform(total_df[[\"thalach\"]])\n",
    "total_df[[\"exang\"]] = imputeclass.fit_transform(total_df[[\"exang\"]])\n",
    "total_df[[\"oldpeak\"]] = imputeclass.fit_transform(total_df[[\"oldpeak\"]])\n",
    "total_df[[\"slope\"]] = imputeclass.fit_transform(total_df[[\"slope\"]])\n",
    "total_df[[\"ca\"]] = imputeclass.fit_transform(total_df[[\"ca\"]])\n",
    "total_df[[\"thal\"]] = imputeclass.fit_transform(total_df[[\"thal\"]])\n",
    "\n"
   ]
  },
  {
   "cell_type": "code",
   "execution_count": 11,
   "metadata": {},
   "outputs": [
    {
     "data": {
      "text/plain": [
       "age         0\n",
       "sex         0\n",
       "cp          0\n",
       "trestbps    0\n",
       "chol        0\n",
       "fbs         0\n",
       "restecg     0\n",
       "thalach     0\n",
       "exang       0\n",
       "oldpeak     0\n",
       "slope       0\n",
       "ca          0\n",
       "thal        0\n",
       "target      0\n",
       "dtype: int64"
      ]
     },
     "execution_count": 11,
     "metadata": {},
     "output_type": "execute_result"
    }
   ],
   "source": [
    "total_df.isnull().sum()"
   ]
  },
  {
   "cell_type": "code",
   "execution_count": 12,
   "metadata": {},
   "outputs": [
    {
     "name": "stdout",
     "output_type": "stream",
     "text": [
      "<class 'pandas.core.frame.DataFrame'>\n",
      "Int64Index: 717 entries, 0 to 121\n",
      "Data columns (total 14 columns):\n",
      "age         717 non-null float64\n",
      "sex         717 non-null float64\n",
      "cp          717 non-null float64\n",
      "trestbps    717 non-null float64\n",
      "chol        717 non-null float64\n",
      "fbs         717 non-null float64\n",
      "restecg     717 non-null float64\n",
      "thalach     717 non-null float64\n",
      "exang       717 non-null float64\n",
      "oldpeak     717 non-null float64\n",
      "slope       717 non-null float64\n",
      "ca          717 non-null float64\n",
      "thal        717 non-null float64\n",
      "target      717 non-null int64\n",
      "dtypes: float64(13), int64(1)\n",
      "memory usage: 84.0 KB\n"
     ]
    }
   ],
   "source": [
    "total_df.info()"
   ]
  },
  {
   "cell_type": "code",
   "execution_count": 13,
   "metadata": {},
   "outputs": [
    {
     "data": {
      "text/html": [
       "<div>\n",
       "<style scoped>\n",
       "    .dataframe tbody tr th:only-of-type {\n",
       "        vertical-align: middle;\n",
       "    }\n",
       "\n",
       "    .dataframe tbody tr th {\n",
       "        vertical-align: top;\n",
       "    }\n",
       "\n",
       "    .dataframe thead th {\n",
       "        text-align: right;\n",
       "    }\n",
       "</style>\n",
       "<table border=\"1\" class=\"dataframe\">\n",
       "  <thead>\n",
       "    <tr style=\"text-align: right;\">\n",
       "      <th></th>\n",
       "      <th>age</th>\n",
       "      <th>sex</th>\n",
       "      <th>cp</th>\n",
       "      <th>trestbps</th>\n",
       "      <th>chol</th>\n",
       "      <th>fbs</th>\n",
       "      <th>restecg</th>\n",
       "      <th>thalach</th>\n",
       "      <th>exang</th>\n",
       "      <th>oldpeak</th>\n",
       "      <th>slope</th>\n",
       "      <th>ca</th>\n",
       "      <th>thal</th>\n",
       "      <th>target</th>\n",
       "    </tr>\n",
       "  </thead>\n",
       "  <tbody>\n",
       "    <tr>\n",
       "      <th>count</th>\n",
       "      <td>717.000000</td>\n",
       "      <td>717.000000</td>\n",
       "      <td>717.00000</td>\n",
       "      <td>717.000000</td>\n",
       "      <td>717.000000</td>\n",
       "      <td>717.000000</td>\n",
       "      <td>717.000000</td>\n",
       "      <td>717.000000</td>\n",
       "      <td>717.000000</td>\n",
       "      <td>717.000000</td>\n",
       "      <td>717.000000</td>\n",
       "      <td>717.000000</td>\n",
       "      <td>717.000000</td>\n",
       "      <td>717.000000</td>\n",
       "    </tr>\n",
       "    <tr>\n",
       "      <th>mean</th>\n",
       "      <td>51.934449</td>\n",
       "      <td>0.737796</td>\n",
       "      <td>3.18689</td>\n",
       "      <td>131.840336</td>\n",
       "      <td>205.134006</td>\n",
       "      <td>0.108661</td>\n",
       "      <td>0.565035</td>\n",
       "      <td>140.509091</td>\n",
       "      <td>0.338462</td>\n",
       "      <td>0.788748</td>\n",
       "      <td>1.700587</td>\n",
       "      <td>0.683007</td>\n",
       "      <td>4.982456</td>\n",
       "      <td>0.852162</td>\n",
       "    </tr>\n",
       "    <tr>\n",
       "      <th>std</th>\n",
       "      <td>9.129876</td>\n",
       "      <td>0.440140</td>\n",
       "      <td>0.94762</td>\n",
       "      <td>18.471471</td>\n",
       "      <td>107.425839</td>\n",
       "      <td>0.293082</td>\n",
       "      <td>0.830398</td>\n",
       "      <td>25.603790</td>\n",
       "      <td>0.472856</td>\n",
       "      <td>1.062811</td>\n",
       "      <td>0.491818</td>\n",
       "      <td>0.612089</td>\n",
       "      <td>1.440087</td>\n",
       "      <td>1.078179</td>\n",
       "    </tr>\n",
       "    <tr>\n",
       "      <th>min</th>\n",
       "      <td>29.000000</td>\n",
       "      <td>0.000000</td>\n",
       "      <td>1.00000</td>\n",
       "      <td>80.000000</td>\n",
       "      <td>0.000000</td>\n",
       "      <td>0.000000</td>\n",
       "      <td>0.000000</td>\n",
       "      <td>60.000000</td>\n",
       "      <td>0.000000</td>\n",
       "      <td>-2.600000</td>\n",
       "      <td>1.000000</td>\n",
       "      <td>0.000000</td>\n",
       "      <td>3.000000</td>\n",
       "      <td>0.000000</td>\n",
       "    </tr>\n",
       "    <tr>\n",
       "      <th>25%</th>\n",
       "      <td>45.000000</td>\n",
       "      <td>0.000000</td>\n",
       "      <td>2.00000</td>\n",
       "      <td>120.000000</td>\n",
       "      <td>185.000000</td>\n",
       "      <td>0.000000</td>\n",
       "      <td>0.000000</td>\n",
       "      <td>122.000000</td>\n",
       "      <td>0.000000</td>\n",
       "      <td>0.000000</td>\n",
       "      <td>1.000000</td>\n",
       "      <td>0.683007</td>\n",
       "      <td>3.000000</td>\n",
       "      <td>0.000000</td>\n",
       "    </tr>\n",
       "    <tr>\n",
       "      <th>50%</th>\n",
       "      <td>53.000000</td>\n",
       "      <td>1.000000</td>\n",
       "      <td>4.00000</td>\n",
       "      <td>130.000000</td>\n",
       "      <td>225.000000</td>\n",
       "      <td>0.000000</td>\n",
       "      <td>0.000000</td>\n",
       "      <td>142.000000</td>\n",
       "      <td>0.000000</td>\n",
       "      <td>0.200000</td>\n",
       "      <td>1.700587</td>\n",
       "      <td>0.683007</td>\n",
       "      <td>4.982456</td>\n",
       "      <td>1.000000</td>\n",
       "    </tr>\n",
       "    <tr>\n",
       "      <th>75%</th>\n",
       "      <td>58.000000</td>\n",
       "      <td>1.000000</td>\n",
       "      <td>4.00000</td>\n",
       "      <td>140.000000</td>\n",
       "      <td>269.000000</td>\n",
       "      <td>0.000000</td>\n",
       "      <td>1.000000</td>\n",
       "      <td>160.000000</td>\n",
       "      <td>1.000000</td>\n",
       "      <td>1.500000</td>\n",
       "      <td>2.000000</td>\n",
       "      <td>0.683007</td>\n",
       "      <td>6.000000</td>\n",
       "      <td>1.000000</td>\n",
       "    </tr>\n",
       "    <tr>\n",
       "      <th>max</th>\n",
       "      <td>77.000000</td>\n",
       "      <td>1.000000</td>\n",
       "      <td>4.00000</td>\n",
       "      <td>200.000000</td>\n",
       "      <td>603.000000</td>\n",
       "      <td>1.000000</td>\n",
       "      <td>2.000000</td>\n",
       "      <td>202.000000</td>\n",
       "      <td>1.000000</td>\n",
       "      <td>6.200000</td>\n",
       "      <td>3.000000</td>\n",
       "      <td>3.000000</td>\n",
       "      <td>7.000000</td>\n",
       "      <td>4.000000</td>\n",
       "    </tr>\n",
       "  </tbody>\n",
       "</table>\n",
       "</div>"
      ],
      "text/plain": [
       "              age         sex         cp    trestbps        chol         fbs  \\\n",
       "count  717.000000  717.000000  717.00000  717.000000  717.000000  717.000000   \n",
       "mean    51.934449    0.737796    3.18689  131.840336  205.134006    0.108661   \n",
       "std      9.129876    0.440140    0.94762   18.471471  107.425839    0.293082   \n",
       "min     29.000000    0.000000    1.00000   80.000000    0.000000    0.000000   \n",
       "25%     45.000000    0.000000    2.00000  120.000000  185.000000    0.000000   \n",
       "50%     53.000000    1.000000    4.00000  130.000000  225.000000    0.000000   \n",
       "75%     58.000000    1.000000    4.00000  140.000000  269.000000    0.000000   \n",
       "max     77.000000    1.000000    4.00000  200.000000  603.000000    1.000000   \n",
       "\n",
       "          restecg     thalach       exang     oldpeak       slope          ca  \\\n",
       "count  717.000000  717.000000  717.000000  717.000000  717.000000  717.000000   \n",
       "mean     0.565035  140.509091    0.338462    0.788748    1.700587    0.683007   \n",
       "std      0.830398   25.603790    0.472856    1.062811    0.491818    0.612089   \n",
       "min      0.000000   60.000000    0.000000   -2.600000    1.000000    0.000000   \n",
       "25%      0.000000  122.000000    0.000000    0.000000    1.000000    0.683007   \n",
       "50%      0.000000  142.000000    0.000000    0.200000    1.700587    0.683007   \n",
       "75%      1.000000  160.000000    1.000000    1.500000    2.000000    0.683007   \n",
       "max      2.000000  202.000000    1.000000    6.200000    3.000000    3.000000   \n",
       "\n",
       "             thal      target  \n",
       "count  717.000000  717.000000  \n",
       "mean     4.982456    0.852162  \n",
       "std      1.440087    1.078179  \n",
       "min      3.000000    0.000000  \n",
       "25%      3.000000    0.000000  \n",
       "50%      4.982456    1.000000  \n",
       "75%      6.000000    1.000000  \n",
       "max      7.000000    4.000000  "
      ]
     },
     "execution_count": 13,
     "metadata": {},
     "output_type": "execute_result"
    }
   ],
   "source": [
    "total_df.describe()"
   ]
  },
  {
   "cell_type": "markdown",
   "metadata": {},
   "source": [
    "# Data Visualization"
   ]
  },
  {
   "cell_type": "code",
   "execution_count": 14,
   "metadata": {},
   "outputs": [
    {
     "data": {
      "text/plain": [
       "0    358\n",
       "1    208\n",
       "2     68\n",
       "3     65\n",
       "4     18\n",
       "Name: target, dtype: int64"
      ]
     },
     "execution_count": 14,
     "metadata": {},
     "output_type": "execute_result"
    }
   ],
   "source": [
    "# let us consider the target feature and see how many have disease and no disease\n",
    "total_df.target.value_counts()"
   ]
  },
  {
   "cell_type": "code",
   "execution_count": 15,
   "metadata": {},
   "outputs": [
    {
     "data": {
      "text/plain": [
       "<matplotlib.axes._subplots.AxesSubplot at 0x228e1826048>"
      ]
     },
     "execution_count": 15,
     "metadata": {},
     "output_type": "execute_result"
    },
    {
     "data": {
      "image/png": "[encoded data removed]",
      "text/plain": [
       "<Figure size 432x288 with 1 Axes>"
      ]
     },
     "metadata": {
      "needs_background": "light"
     },
     "output_type": "display_data"
    }
   ],
   "source": [
    "#lets plot the graph to see the same visually.\n",
    "sns.countplot(x='target',data=total_df)"
   ]
  },
  {
   "cell_type": "code",
   "execution_count": 16,
   "metadata": {},
   "outputs": [
    {
     "data": {
      "image/png": "[encoded data removed]",
      "text/plain": [
       "<Figure size 432x288 with 1 Axes>"
      ]
     },
     "metadata": {
      "needs_background": "light"
     },
     "output_type": "display_data"
    }
   ],
   "source": [
    "# let us visualize the disease infected with age and sex \n",
    "sns.countplot(x='sex', data=total_df, palette=\"mako_r\")\n",
    "plt.xlabel(\"Sex (0 = female, 1= male)\")\n",
    "plt.show()"
   ]
  },
  {
   "cell_type": "code",
   "execution_count": 19,
   "metadata": {},
   "outputs": [
    {
     "data": {
      "image/png": "[encoded data removed]",
      "text/plain": [
       "<Figure size 2160x720 with 1 Axes>"
      ]
     },
     "metadata": {
      "needs_background": "light"
     },
     "output_type": "display_data"
    }
   ],
   "source": [
    "pd.crosstab(total_df.age,total_df.target).plot(kind=\"bar\",figsize=(30,10))\n",
    "plt.title('Heart Disease Frequency for Ages')\n",
    "plt.xlabel('Age')\n",
    "plt.ylabel('Frequency')\n",
    "plt.savefig('heartDiseaseAndAges.png')\n",
    "plt.show()"
   ]
  },
  {
   "cell_type": "code",
   "execution_count": 24,
   "metadata": {},
   "outputs": [
    {
     "data": {
      "image/png": "[encoded data removed]",
      "text/plain": [
       "<Figure size 432x288 with 1 Axes>"
      ]
     },
     "metadata": {
      "needs_background": "light"
     },
     "output_type": "display_data"
    }
   ],
   "source": [
    "plt.scatter(x=total_df.age[total_df.target==1], y=total_df.thalach[(total_df.target==1)], c=\"red\")\n",
    "plt.scatter(x=total_df.age[total_df.target==0], y=total_df.thalach[(total_df.target==0)])\n",
    "plt.scatter(x=total_df.age[total_df.target==2], y=total_df.thalach[(total_df.target==2)], c=\"green\")\n",
    "plt.scatter(x=total_df.age[total_df.target==3], y=total_df.thalach[(total_df.target==3)], c=\"yellow\")\n",
    "plt.scatter(x=total_df.age[total_df.target==4], y=total_df.thalach[(total_df.target==4)], c=\"black\")\n",
    "plt.legend([\"Disease\", \"Not Disease\"])\n",
    "plt.xlabel(\"Age\")\n",
    "plt.ylabel(\"Maximum Heart Rate\")\n",
    "plt.show()"
   ]
  },
  {
   "cell_type": "code",
   "execution_count": 32,
   "metadata": {},
   "outputs": [
    {
     "name": "stdout",
     "output_type": "stream",
     "text": [
      "shape of Xtrain: (717, 13)\n",
      "shape of Ytrain: (717,)\n"
     ]
    }
   ],
   "source": [
    "xtrain = total_df.drop(['target'],axis=1)\n",
    "print(\"shape of Xtrain:\",xtrain.shape)\n",
    "ytrain = total_df['target']\n",
    "print(\"shape of Ytrain:\",ytrain.shape)"
   ]
  },
  {
   "cell_type": "code",
   "execution_count": 34,
   "metadata": {},
   "outputs": [],
   "source": [
    "from sklearn.model_selection import train_test_split\n",
    "x_train, x_test, y_train, y_test = train_test_split(xtrain,ytrain,test_size = 0.2,random_state=0)"
   ]
  },
  {
   "cell_type": "code",
   "execution_count": 38,
   "metadata": {},
   "outputs": [
    {
     "name": "stdout",
     "output_type": "stream",
     "text": [
      "shape of Xtrain: (573, 13)\n",
      "shape of Xtrain: (144, 13)\n",
      "shape of Xtrain: (573,)\n",
      "shape of Xtrain: (144,)\n"
     ]
    }
   ],
   "source": [
    "print(\"shape of Xtrain:\",x_train.shape)\n",
    "print(\"shape of Xtrain:\",x_test.shape)\n",
    "print(\"shape of Xtrain:\",y_train.shape)\n",
    "print(\"shape of Xtrain:\",y_test.shape)"
   ]
  },
  {
   "cell_type": "code",
   "execution_count": null,
   "metadata": {},
   "outputs": [],
   "source": []
  }
 ],
 "metadata": {
  "kernelspec": {
   "display_name": "Python 3",
   "language": "python",
   "name": "python3"
  },
  "language_info": {
   "codemirror_mode": {
    "name": "ipython",
    "version": 3
   },
   "file_extension": ".py",
   "mimetype": "text/x-python",
   "name": "python",
   "nbconvert_exporter": "python",
   "pygments_lexer": "ipython3",
   "version": "3.6.8"
  }
 },
 "nbformat": 4,
 "nbformat_minor": 2
}
